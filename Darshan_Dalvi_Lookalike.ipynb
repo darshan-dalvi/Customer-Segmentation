{
 "cells": [
  {
   "cell_type": "code",
   "execution_count": 2,
   "metadata": {},
   "outputs": [],
   "source": [
    "import pandas as pd\n",
    "from sklearn.preprocessing import StandardScaler\n",
    "from sklearn.metrics.pairwise import cosine_similarity"
   ]
  },
  {
   "cell_type": "code",
   "execution_count": 21,
   "metadata": {},
   "outputs": [],
   "source": [
    "customers = pd.read_csv('data/Customers.csv')\n",
    "products = pd.read_csv('data/Products.csv')\n",
    "transactions = pd.read_csv('data/Transactions.csv')"
   ]
  },
  {
   "cell_type": "markdown",
   "metadata": {},
   "source": [
    "# Preprocessing"
   ]
  },
  {
   "cell_type": "code",
   "execution_count": 4,
   "metadata": {},
   "outputs": [],
   "source": [
    "# Merge transactions with customers and products\n",
    "merged = pd.merge(transactions, customers, on='CustomerID')\n",
    "merged = pd.merge(merged, products, on='ProductID')"
   ]
  },
  {
   "cell_type": "code",
   "execution_count": 9,
   "metadata": {},
   "outputs": [
    {
     "data": {
      "text/plain": [
       "Index(['TransactionID', 'CustomerID', 'ProductID', 'TransactionDate',\n",
       "       'Quantity', 'TotalValue', 'Price_x', 'CustomerName', 'Region',\n",
       "       'SignupDate', 'ProductName', 'Category', 'Price_y'],\n",
       "      dtype='object')"
      ]
     },
     "execution_count": 9,
     "metadata": {},
     "output_type": "execute_result"
    }
   ],
   "source": [
    "merged.columns"
   ]
  },
  {
   "cell_type": "code",
   "execution_count": 10,
   "metadata": {},
   "outputs": [
    {
     "data": {
      "application/vnd.microsoft.datawrangler.viewer.v0+json": {
       "columns": [
        {
         "name": "index",
         "rawType": "int64",
         "type": "integer"
        },
        {
         "name": "TransactionID",
         "rawType": "object",
         "type": "string"
        },
        {
         "name": "CustomerID",
         "rawType": "object",
         "type": "string"
        },
        {
         "name": "ProductID",
         "rawType": "object",
         "type": "string"
        },
        {
         "name": "TransactionDate",
         "rawType": "object",
         "type": "string"
        },
        {
         "name": "Quantity",
         "rawType": "int64",
         "type": "integer"
        },
        {
         "name": "TotalValue",
         "rawType": "float64",
         "type": "float"
        },
        {
         "name": "Price_x",
         "rawType": "float64",
         "type": "float"
        },
        {
         "name": "CustomerName",
         "rawType": "object",
         "type": "string"
        },
        {
         "name": "Region",
         "rawType": "object",
         "type": "string"
        },
        {
         "name": "SignupDate",
         "rawType": "object",
         "type": "string"
        },
        {
         "name": "ProductName",
         "rawType": "object",
         "type": "string"
        },
        {
         "name": "Category",
         "rawType": "object",
         "type": "string"
        },
        {
         "name": "Price_y",
         "rawType": "float64",
         "type": "float"
        }
       ],
       "conversionMethod": "pd.DataFrame",
       "ref": "ccc30abd-e75e-4bf9-809c-1c0a1fde302a",
       "rows": [
        [
         "0",
         "T00001",
         "C0199",
         "P067",
         "2024-08-25 12:38:23",
         "1",
         "300.68",
         "300.68",
         "Andrea Jenkins",
         "Europe",
         "2022-12-03",
         "ComfortLiving Bluetooth Speaker",
         "Electronics",
         "300.68"
        ],
        [
         "1",
         "T00112",
         "C0146",
         "P067",
         "2024-05-27 22:23:54",
         "1",
         "300.68",
         "300.68",
         "Brittany Harvey",
         "Asia",
         "2024-09-04",
         "ComfortLiving Bluetooth Speaker",
         "Electronics",
         "300.68"
        ],
        [
         "2",
         "T00166",
         "C0127",
         "P067",
         "2024-04-25 07:38:55",
         "1",
         "300.68",
         "300.68",
         "Kathryn Stevens",
         "Europe",
         "2024-04-04",
         "ComfortLiving Bluetooth Speaker",
         "Electronics",
         "300.68"
        ],
        [
         "3",
         "T00272",
         "C0087",
         "P067",
         "2024-03-26 22:55:37",
         "2",
         "601.36",
         "300.68",
         "Travis Campbell",
         "South America",
         "2024-04-11",
         "ComfortLiving Bluetooth Speaker",
         "Electronics",
         "300.68"
        ],
        [
         "4",
         "T00363",
         "C0070",
         "P067",
         "2024-03-21 15:10:10",
         "3",
         "902.04",
         "300.68",
         "Timothy Perez",
         "Europe",
         "2022-03-15",
         "ComfortLiving Bluetooth Speaker",
         "Electronics",
         "300.68"
        ]
       ],
       "shape": {
        "columns": 13,
        "rows": 5
       }
      },
      "text/html": [
       "<div>\n",
       "<style scoped>\n",
       "    .dataframe tbody tr th:only-of-type {\n",
       "        vertical-align: middle;\n",
       "    }\n",
       "\n",
       "    .dataframe tbody tr th {\n",
       "        vertical-align: top;\n",
       "    }\n",
       "\n",
       "    .dataframe thead th {\n",
       "        text-align: right;\n",
       "    }\n",
       "</style>\n",
       "<table border=\"1\" class=\"dataframe\">\n",
       "  <thead>\n",
       "    <tr style=\"text-align: right;\">\n",
       "      <th></th>\n",
       "      <th>TransactionID</th>\n",
       "      <th>CustomerID</th>\n",
       "      <th>ProductID</th>\n",
       "      <th>TransactionDate</th>\n",
       "      <th>Quantity</th>\n",
       "      <th>TotalValue</th>\n",
       "      <th>Price_x</th>\n",
       "      <th>CustomerName</th>\n",
       "      <th>Region</th>\n",
       "      <th>SignupDate</th>\n",
       "      <th>ProductName</th>\n",
       "      <th>Category</th>\n",
       "      <th>Price_y</th>\n",
       "    </tr>\n",
       "  </thead>\n",
       "  <tbody>\n",
       "    <tr>\n",
       "      <th>0</th>\n",
       "      <td>T00001</td>\n",
       "      <td>C0199</td>\n",
       "      <td>P067</td>\n",
       "      <td>2024-08-25 12:38:23</td>\n",
       "      <td>1</td>\n",
       "      <td>300.68</td>\n",
       "      <td>300.68</td>\n",
       "      <td>Andrea Jenkins</td>\n",
       "      <td>Europe</td>\n",
       "      <td>2022-12-03</td>\n",
       "      <td>ComfortLiving Bluetooth Speaker</td>\n",
       "      <td>Electronics</td>\n",
       "      <td>300.68</td>\n",
       "    </tr>\n",
       "    <tr>\n",
       "      <th>1</th>\n",
       "      <td>T00112</td>\n",
       "      <td>C0146</td>\n",
       "      <td>P067</td>\n",
       "      <td>2024-05-27 22:23:54</td>\n",
       "      <td>1</td>\n",
       "      <td>300.68</td>\n",
       "      <td>300.68</td>\n",
       "      <td>Brittany Harvey</td>\n",
       "      <td>Asia</td>\n",
       "      <td>2024-09-04</td>\n",
       "      <td>ComfortLiving Bluetooth Speaker</td>\n",
       "      <td>Electronics</td>\n",
       "      <td>300.68</td>\n",
       "    </tr>\n",
       "    <tr>\n",
       "      <th>2</th>\n",
       "      <td>T00166</td>\n",
       "      <td>C0127</td>\n",
       "      <td>P067</td>\n",
       "      <td>2024-04-25 07:38:55</td>\n",
       "      <td>1</td>\n",
       "      <td>300.68</td>\n",
       "      <td>300.68</td>\n",
       "      <td>Kathryn Stevens</td>\n",
       "      <td>Europe</td>\n",
       "      <td>2024-04-04</td>\n",
       "      <td>ComfortLiving Bluetooth Speaker</td>\n",
       "      <td>Electronics</td>\n",
       "      <td>300.68</td>\n",
       "    </tr>\n",
       "    <tr>\n",
       "      <th>3</th>\n",
       "      <td>T00272</td>\n",
       "      <td>C0087</td>\n",
       "      <td>P067</td>\n",
       "      <td>2024-03-26 22:55:37</td>\n",
       "      <td>2</td>\n",
       "      <td>601.36</td>\n",
       "      <td>300.68</td>\n",
       "      <td>Travis Campbell</td>\n",
       "      <td>South America</td>\n",
       "      <td>2024-04-11</td>\n",
       "      <td>ComfortLiving Bluetooth Speaker</td>\n",
       "      <td>Electronics</td>\n",
       "      <td>300.68</td>\n",
       "    </tr>\n",
       "    <tr>\n",
       "      <th>4</th>\n",
       "      <td>T00363</td>\n",
       "      <td>C0070</td>\n",
       "      <td>P067</td>\n",
       "      <td>2024-03-21 15:10:10</td>\n",
       "      <td>3</td>\n",
       "      <td>902.04</td>\n",
       "      <td>300.68</td>\n",
       "      <td>Timothy Perez</td>\n",
       "      <td>Europe</td>\n",
       "      <td>2022-03-15</td>\n",
       "      <td>ComfortLiving Bluetooth Speaker</td>\n",
       "      <td>Electronics</td>\n",
       "      <td>300.68</td>\n",
       "    </tr>\n",
       "  </tbody>\n",
       "</table>\n",
       "</div>"
      ],
      "text/plain": [
       "  TransactionID CustomerID ProductID      TransactionDate  Quantity  \\\n",
       "0        T00001      C0199      P067  2024-08-25 12:38:23         1   \n",
       "1        T00112      C0146      P067  2024-05-27 22:23:54         1   \n",
       "2        T00166      C0127      P067  2024-04-25 07:38:55         1   \n",
       "3        T00272      C0087      P067  2024-03-26 22:55:37         2   \n",
       "4        T00363      C0070      P067  2024-03-21 15:10:10         3   \n",
       "\n",
       "   TotalValue  Price_x     CustomerName         Region  SignupDate  \\\n",
       "0      300.68   300.68   Andrea Jenkins         Europe  2022-12-03   \n",
       "1      300.68   300.68  Brittany Harvey           Asia  2024-09-04   \n",
       "2      300.68   300.68  Kathryn Stevens         Europe  2024-04-04   \n",
       "3      601.36   300.68  Travis Campbell  South America  2024-04-11   \n",
       "4      902.04   300.68    Timothy Perez         Europe  2022-03-15   \n",
       "\n",
       "                       ProductName     Category  Price_y  \n",
       "0  ComfortLiving Bluetooth Speaker  Electronics   300.68  \n",
       "1  ComfortLiving Bluetooth Speaker  Electronics   300.68  \n",
       "2  ComfortLiving Bluetooth Speaker  Electronics   300.68  \n",
       "3  ComfortLiving Bluetooth Speaker  Electronics   300.68  \n",
       "4  ComfortLiving Bluetooth Speaker  Electronics   300.68  "
      ]
     },
     "execution_count": 10,
     "metadata": {},
     "output_type": "execute_result"
    }
   ],
   "source": [
    "merged.head()"
   ]
  },
  {
   "cell_type": "code",
   "execution_count": 12,
   "metadata": {},
   "outputs": [],
   "source": [
    "customer_profiles = merged.groupby('CustomerID').agg({\n",
    "    'TotalValue': 'sum',                   # Total spending\n",
    "    'Quantity': 'sum',                     # Total quantity purchased\n",
    "    'Price_y': 'mean',                     # Average price of products bought (from the 'Products' dataset)\n",
    "    'Category': lambda x: x.mode()[0],     # Most purchased category\n",
    "    'Region': 'first'                      # Customer's region\n",
    "}).reset_index()"
   ]
  },
  {
   "cell_type": "code",
   "execution_count": 13,
   "metadata": {},
   "outputs": [],
   "source": [
    "# One-hot encode categorical columns (Category and Region)\n",
    "customer_profiles = pd.get_dummies(customer_profiles, columns=['Category', 'Region'])"
   ]
  },
  {
   "cell_type": "code",
   "execution_count": 15,
   "metadata": {},
   "outputs": [],
   "source": [
    "# Normalize numerical features\n",
    "scaler = StandardScaler()\n",
    "numerical_features = ['TotalValue', 'Quantity', 'Price_y']\n",
    "customer_profiles[numerical_features] = scaler.fit_transform(customer_profiles[numerical_features])"
   ]
  },
  {
   "cell_type": "code",
   "execution_count": 16,
   "metadata": {},
   "outputs": [],
   "source": [
    "# Compute Cosine Similarity\n",
    "customer_ids = customer_profiles['CustomerID']\n",
    "feature_matrix = customer_profiles.drop('CustomerID', axis=1)\n",
    "\n",
    "similarity_matrix = cosine_similarity(feature_matrix)"
   ]
  },
  {
   "cell_type": "code",
   "execution_count": 17,
   "metadata": {},
   "outputs": [],
   "source": [
    "# Get the top 3 similar customers for each customer\n",
    "lookalike_results = {}\n",
    "for idx, customer_id in enumerate(customer_ids):\n",
    "    similarity_scores = list(enumerate(similarity_matrix[idx]))\n",
    "    sorted_scores = sorted(similarity_scores, key=lambda x: x[1], reverse=True)[1:4]  # Exclude self-match\n",
    "    top_3 = [(customer_ids[i], score) for i, score in sorted_scores]\n",
    "    lookalike_results[customer_id] = top_3"
   ]
  },
  {
   "cell_type": "code",
   "execution_count": 18,
   "metadata": {},
   "outputs": [],
   "source": [
    "# Prepare the output Lookalike.csv file\n",
    "output = []\n",
    "for customer_id, lookalikes in lookalike_results.items():\n",
    "    output.append({\n",
    "        'cust_id': customer_id,\n",
    "        'lookalikes': str([(l_id, round(score, 2)) for l_id, score in lookalikes])\n",
    "    })\n"
   ]
  },
  {
   "cell_type": "code",
   "execution_count": 20,
   "metadata": {},
   "outputs": [
    {
     "name": "stdout",
     "output_type": "stream",
     "text": [
      "Lookalike Model completed. Results saved to Lookalike.csv.\n"
     ]
    }
   ],
   "source": [
    "lookalike_df = pd.DataFrame(output)\n",
    "lookalike_df.to_csv('Lookalike.csv', index=False)\n",
    "\n",
    "print(\"Lookalike Model completed. Results saved to Lookalike.csv.\")\n"
   ]
  }
 ],
 "metadata": {
  "kernelspec": {
   "display_name": "base",
   "language": "python",
   "name": "python3"
  },
  "language_info": {
   "codemirror_mode": {
    "name": "ipython",
    "version": 3
   },
   "file_extension": ".py",
   "mimetype": "text/x-python",
   "name": "python",
   "nbconvert_exporter": "python",
   "pygments_lexer": "ipython3",
   "version": "3.12.7"
  }
 },
 "nbformat": 4,
 "nbformat_minor": 2
}
